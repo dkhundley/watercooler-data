{
 "cells": [
  {
   "cell_type": "code",
   "execution_count": 2,
   "metadata": {},
   "outputs": [],
   "source": [
    "# Importing the necessary Python libraries\n",
    "import os\n",
    "import json\n",
    "import time\n",
    "import yaml\n",
    "from datetime import datetime\n",
    "\n",
    "import polars as pl\n",
    "\n",
    "import feedparser\n",
    "import mlx_whisper\n",
    "import requests\n",
    "\n",
    "with open('../keys/watercooler_rss_feed.yaml', 'r') as f:\n",
    "    wc_rss_urls = yaml.safe_load(f)\n",
    "    wc_rss_patreon_url = wc_rss_urls['WATERCOOLER_PATREON_FEED']\n",
    "    wc_rss_public_url = wc_rss_urls['WATERCOOLER_PUBLIC_FEED']\n",
    "\n",
    "wc_rss_patreon = feedparser.parse(wc_rss_patreon_url)\n",
    "wc_rss_public = feedparser.parse(wc_rss_public_url)"
   ]
  },
  {
   "cell_type": "code",
   "execution_count": null,
   "metadata": {},
   "outputs": [],
   "source": [
    "df_wc_public_episodes = pl.read_csv('../data/episode-metadata/wc_public_episodes.csv')\n",
    "\n",
    "wc_public_transcript_dir = '../data/transcripts/main'\n",
    "\n",
    "# Iterating over all the episodes in the public episode metadata DataFrame\n",
    "for episode in df_wc_public_episodes.iter_rows(named = True):\n",
    "\n",
    "    # Setting the file path for the episode transcript\n",
    "    episode_transcript_filepath = os.path.join(wc_public_transcript_dir, f\"episode_{episode['episode_num']:03d}.txt\")\n",
    "    episode_audio_filepath = os.path.join(wc_public_transcript_dir, f\"episode_{episode['episode_num']:03d}.mp3\")\n",
    "\n",
    "    # Checking if the episode transcript file exists\n",
    "    if os.path.exists(episode_transcript_filepath):\n",
    "        continue\n",
    "\n",
    "    # Downloading the audio file for the episode\n",
    "    response = requests.get(episode['link'], stream = True)\n",
    "\n",
    "    # Writing the audio file to the disk\n",
    "    with open(episode_audio_filepath, 'wb') as f:\n",
    "        for chunk in response.iter_content(chunk_size = 1024):\n",
    "            f.write(chunk)\n",
    "\n",
    "    # Transcribing the audio file with the MLX Whisper API\n",
    "    transcribed_text = mlx_whisper.transcribe(episode_audio_filepath, path_or_hf_repo=f'mlx-community/whisper-large-v3-turbo')['text']\n",
    "\n",
    "    # Writing the transcribed text to the episode transcript file\n",
    "    with open(episode_transcript_filepath, 'w') as f:\n",
    "        f.write(transcribed_text)\n",
    "\n",
    "    # Deleting the audio file\n",
    "    os.remove(episode_audio_filepath)\n",
    "\n",
    "    \n",
    "\n",
    "    print(episode_transcript_filepath)\n",
    "\n",
    "    break"
   ]
  }
 ],
 "metadata": {
  "kernelspec": {
   "display_name": "wc_venv",
   "language": "python",
   "name": "wc_venv"
  },
  "language_info": {
   "codemirror_mode": {
    "name": "ipython",
    "version": 3
   },
   "file_extension": ".py",
   "mimetype": "text/x-python",
   "name": "python",
   "nbconvert_exporter": "python",
   "pygments_lexer": "ipython3",
   "version": "3.12.9"
  }
 },
 "nbformat": 4,
 "nbformat_minor": 2
}
