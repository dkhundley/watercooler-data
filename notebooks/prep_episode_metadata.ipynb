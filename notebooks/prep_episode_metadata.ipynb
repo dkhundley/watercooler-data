{
 "cells": [
  {
   "cell_type": "code",
   "execution_count": 3,
   "metadata": {},
   "outputs": [],
   "source": [
    "# Importing the necessary Python libraries\n",
    "import os\n",
    "import json\n",
    "import time\n",
    "import yaml\n",
    "from datetime import datetime\n",
    "\n",
    "import polars as pl\n",
    "\n",
    "import feedparser\n",
    "import mlx_whisper\n",
    "import requests\n",
    "\n",
    "with open('../keys/watercooler_rss_feed.yaml', 'r') as f:\n",
    "    wc_rss_urls = yaml.safe_load(f)\n",
    "    wc_rss_patreon_url = wc_rss_urls['WATERCOOLER_PATREON_FEED']\n",
    "    wc_rss_public_url = wc_rss_urls['WATERCOOLER_PUBLIC_FEED']\n",
    "\n",
    "wc_rss_patreon = feedparser.parse(wc_rss_patreon_url)\n",
    "wc_rss_public = feedparser.parse(wc_rss_public_url)"
   ]
  },
  {
   "cell_type": "code",
   "execution_count": 4,
   "metadata": {},
   "outputs": [
    {
     "name": "stdout",
     "output_type": "stream",
     "text": [
      "12\n"
     ]
    }
   ],
   "source": [
    "import re\n",
    "\n",
    "def find_one_or_two_digit_number(text):\n",
    "    match = re.search(r'\\b\\d{2,3}\\b', text)\n",
    "    if match:\n",
    "        return int(match.group())\n",
    "    else:\n",
    "        return None\n",
    "\n",
    "# Example usage\n",
    "text = \"The room number is 12 and the code is 4567.\"\n",
    "result = find_one_or_two_digit_number(text)\n",
    "print(result)  # Output: 12"
   ]
  },
  {
   "cell_type": "markdown",
   "metadata": {},
   "source": [
    "## Public Episode Parsing"
   ]
  },
  {
   "cell_type": "code",
   "execution_count": 5,
   "metadata": {},
   "outputs": [],
   "source": [
    "wc_public_episodes = []\n",
    "for episode in wc_rss_public['entries']:\n",
    "    episode_title = episode['title']\n",
    "    episode_summary = episode['summary']\n",
    "    episode_link = episode['links'][1]['href']\n",
    "\n",
    "    raw_episode_timestamp = episode['published_parsed']\n",
    "    episode_epoch_time = time.mktime(raw_episode_timestamp)\n",
    "    episode_timestamp = datetime.fromtimestamp(episode_epoch_time)\n",
    "\n",
    "    episode_num = find_one_or_two_digit_number(episode_title)\n",
    "\n",
    "    wc_public_episodes.append({\n",
    "        'title': episode_title,\n",
    "        'summary': episode_summary,\n",
    "        'timestamp': episode_timestamp,\n",
    "        'link': episode_link,\n",
    "        'episode_num': episode_num\n",
    "    })"
   ]
  },
  {
   "cell_type": "code",
   "execution_count": 6,
   "metadata": {},
   "outputs": [],
   "source": [
    "# Convert the list of dictionaries to a Polars DataFrame\n",
    "df = pl.DataFrame(wc_public_episodes)\n",
    "\n",
    "target_timestamp = df.filter(pl.col('title') == 'JL Cauvin | Comedian').select('timestamp').item(0, 0)\n",
    "df_filtered = df.filter(pl.col('timestamp') > target_timestamp)\n",
    "\n",
    "target_timestamp = df.filter(pl.col('title') == 'JL Cauvin | Comedian').select('timestamp').item(0, 0)\n",
    "df_filtered = df.filter(pl.col('timestamp') > target_timestamp)\n",
    "# df_filtered.write_csv('../data/episode-metadata/raw_wc_public_episodes.csv')"
   ]
  },
  {
   "cell_type": "markdown",
   "metadata": {},
   "source": [
    "## Patreon Episode Parsing"
   ]
  },
  {
   "cell_type": "code",
   "execution_count": 34,
   "metadata": {},
   "outputs": [],
   "source": [
    "wc_patreon_episodes = []\n",
    "wc_movie_night_episodes = []\n",
    "\n",
    "for episode in wc_rss_patreon['entries']:\n",
    "\n",
    "    episode_title = episode['title']\n",
    "\n",
    "    # Check if episode is ad-free\n",
    "    if 'ad free' in episode_title.lower() or 'ad-free' in episode_title.lower():\n",
    "        continue\n",
    "\n",
    "    # Extract episode number if it has # followed by digits\n",
    "    episode_num = None\n",
    "    if '#' in episode_title:\n",
    "        match = re.search(r'#(\\d{1,3})', episode_title)\n",
    "        if match:\n",
    "            episode_num = int(match.group(1))\n",
    "\n",
    "    episode_summary = episode['summary']\n",
    "    episode_link = episode['links'][1]['href']\n",
    "\n",
    "    raw_episode_timestamp = episode['published_parsed']\n",
    "    episode_epoch_time = time.mktime(raw_episode_timestamp)\n",
    "    episode_timestamp = datetime.fromtimestamp(episode_epoch_time)\n",
    "\n",
    "\n",
    "    if 'movie night' in episode_title.lower() or 'movie-night' in episode_title.lower() or 'movie club' in episode_title.lower():\n",
    "        wc_movie_night_episodes.append({\n",
    "            'title': episode_title,\n",
    "            'summary': episode_summary,\n",
    "            'timestamp': episode_timestamp,\n",
    "            'link': episode_link,\n",
    "            'episode_num': episode_num\n",
    "        })\n",
    "\n",
    "    else:\n",
    "        wc_patreon_episodes.append({\n",
    "            'title': episode_title,\n",
    "            'summary': episode_summary,\n",
    "            'timestamp': episode_timestamp,\n",
    "            'link': episode_link,\n",
    "            'episode_num': episode_num\n",
    "        })"
   ]
  },
  {
   "cell_type": "code",
   "execution_count": 35,
   "metadata": {},
   "outputs": [],
   "source": [
    "df_patreon = pl.DataFrame(wc_patreon_episodes)\n",
    "df_movie_night = pl.DataFrame(wc_movie_night_episodes)"
   ]
  },
  {
   "cell_type": "code",
   "execution_count": 37,
   "metadata": {},
   "outputs": [
    {
     "data": {
      "text/plain": [
       "243"
      ]
     },
     "execution_count": 37,
     "metadata": {},
     "output_type": "execute_result"
    }
   ],
   "source": [
    "len(df_patreon)"
   ]
  },
  {
   "cell_type": "code",
   "execution_count": 44,
   "metadata": {},
   "outputs": [
    {
     "name": "stdout",
     "output_type": "stream",
     "text": [
      "Episodes that appear more than once in patreon feed:\n",
      "shape: (0, 2)\n",
      "┌─────────────┬───────┐\n",
      "│ episode_num ┆ count │\n",
      "│ ---         ┆ ---   │\n",
      "│ str         ┆ u32   │\n",
      "╞═════════════╪═══════╡\n",
      "└─────────────┴───────┘\n",
      "\n",
      "After fixing duplicates:\n",
      "Patreon episodes with unique episode numbers: 243\n"
     ]
    },
    {
     "name": "stderr",
     "output_type": "stream",
     "text": [
      "/var/folders/58/n_wf97y515z8xjc0hm45xl300000gn/T/ipykernel_4352/968220924.py:3: DeprecationWarning: `pl.count()` is deprecated. Please use `pl.len()` instead.\n",
      "  pl.count().alias('count')\n"
     ]
    }
   ],
   "source": [
    "# Check if any episode_num appears more than once in df_patreon\n",
    "duplicate_episodes = df_patreon.filter(pl.col('episode_num').is_not_null()).group_by('episode_num').agg(\n",
    "    pl.count().alias('count')\n",
    ").filter(pl.col('count') > 1).sort('count', descending=True)\n",
    "\n",
    "print(\"Episodes that appear more than once in patreon feed:\")\n",
    "print(duplicate_episodes)\n",
    "\n",
    "# Get the details of any duplicated episodes in patreon feed\n",
    "if len(duplicate_episodes) > 0:\n",
    "    for row in duplicate_episodes.rows():\n",
    "        ep_num = row[0]\n",
    "        print(f\"\\nDetails for duplicate episode #{ep_num}:\")\n",
    "        # Convert episode_num to string before comparing if it's a string in the dataframe\n",
    "        if isinstance(ep_num, str):\n",
    "            duplicates = df_patreon.filter(pl.col('episode_num').cast(pl.Utf8) == ep_num).select(['title', 'timestamp'])\n",
    "        else:\n",
    "            duplicates = df_patreon.filter(pl.col('episode_num') == ep_num).select(['title', 'timestamp'])\n",
    "        print(duplicates)\n",
    "        \n",
    "        # Update the duplicates with 'a' and 'b' suffixes\n",
    "        indices = df_patreon.with_row_index().filter(pl.col('episode_num') == ep_num).get_column('index')\n",
    "        for i, idx in enumerate(indices):\n",
    "            suffix = chr(97 + i)  # 'a', 'b', 'c', etc.\n",
    "            df_patreon = df_patreon.with_row_count().with_columns(\n",
    "                pl.when(pl.col('row_nr') == idx)\n",
    "                .then(pl.lit(f\"{ep_num}{suffix}\"))\n",
    "                .otherwise(pl.col('episode_num'))\n",
    "                .alias('episode_num')\n",
    "            ).drop('row_nr')\n",
    "\n",
    "\n",
    "\n",
    "print(\"\\nAfter fixing duplicates:\")\n",
    "print(f\"Patreon episodes with unique episode numbers: {len(df_patreon.filter(pl.col('episode_num').is_not_null()).unique('episode_num'))}\")"
   ]
  },
  {
   "cell_type": "code",
   "execution_count": null,
   "metadata": {},
   "outputs": [],
   "source": [
    "# Save dataframe with consistent quoting for the title column\n",
    "df_patreon.write_csv('../data/episode-metadata/wc_patreon_episodes.csv', quote_style=\"non_numeric\")\n"
   ]
  },
  {
   "cell_type": "code",
   "execution_count": 56,
   "metadata": {},
   "outputs": [],
   "source": [
    "\n",
    "\n",
    "# Remove entries from df_movie_night that begin with \"Patreon\"\n",
    "df_movie_night = df_movie_night.filter(~pl.col('title').str.starts_with(\"Patreon\"))\n",
    "\n",
    "df_movie_night.write_csv('../data/episode-metadata/wc_movie_night_episodes.csv', quote_style=\"non_numeric\")"
   ]
  },
  {
   "cell_type": "code",
   "execution_count": null,
   "metadata": {},
   "outputs": [],
   "source": []
  }
 ],
 "metadata": {
  "kernelspec": {
   "display_name": "wc_venv",
   "language": "python",
   "name": "wc_venv"
  },
  "language_info": {
   "codemirror_mode": {
    "name": "ipython",
    "version": 3
   },
   "file_extension": ".py",
   "mimetype": "text/x-python",
   "name": "python",
   "nbconvert_exporter": "python",
   "pygments_lexer": "ipython3",
   "version": "3.12.9"
  }
 },
 "nbformat": 4,
 "nbformat_minor": 2
}
