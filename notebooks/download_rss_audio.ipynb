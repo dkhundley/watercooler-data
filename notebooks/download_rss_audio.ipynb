{
 "cells": [
  {
   "cell_type": "markdown",
   "metadata": {},
   "source": [
    "# Downloading Audio with the RSS Feed"
   ]
  },
  {
   "cell_type": "markdown",
   "metadata": {},
   "source": [
    "## Notebook Setup"
   ]
  },
  {
   "cell_type": "code",
   "execution_count": 1,
   "metadata": {},
   "outputs": [
    {
     "name": "stderr",
     "output_type": "stream",
     "text": [
      "/Users/dkhundley/Documents/Repositories/watercooler-data/.venv/lib/python3.12/site-packages/tqdm/auto.py:21: TqdmWarning: IProgress not found. Please update jupyter and ipywidgets. See https://ipywidgets.readthedocs.io/en/stable/user_install.html\n",
      "  from .autonotebook import tqdm as notebook_tqdm\n"
     ]
    }
   ],
   "source": [
    "# Importing the necessary Python libraries\n",
    "import os\n",
    "import json\n",
    "import yaml\n",
    "\n",
    "import feedparser\n",
    "import mlx_whisper\n",
    "import requests"
   ]
  },
  {
   "cell_type": "code",
   "execution_count": 2,
   "metadata": {},
   "outputs": [],
   "source": [
    "# Loading the RSS feed from file if file exists\n",
    "if os.path.exists('../keys/watercooler_rss_feed.yaml'):\n",
    "    with open('../keys/watercooler_rss_feed.yaml', 'r') as f:\n",
    "        wc_rss_feed_url = yaml.safe_load(f)['WATERCOOLER_RSS_FEED']\n",
    "else:\n",
    "    wc_rss_feed_url = os.getenv('WATERCOOLER_RSS_FEED')"
   ]
  },
  {
   "cell_type": "code",
   "execution_count": 3,
   "metadata": {},
   "outputs": [],
   "source": [
    "# Instantiating the object representing the RSS feed\n",
    "wc_rss_feed = feedparser.parse(wc_rss_feed_url)"
   ]
  },
  {
   "cell_type": "code",
   "execution_count": 4,
   "metadata": {},
   "outputs": [
    {
     "data": {
      "text/plain": [
       "364"
      ]
     },
     "execution_count": 4,
     "metadata": {},
     "output_type": "execute_result"
    }
   ],
   "source": [
    "len(wc_rss_feed['entries'])"
   ]
  },
  {
   "cell_type": "code",
   "execution_count": 5,
   "metadata": {},
   "outputs": [],
   "source": [
    "response = requests.get(wc_rss_feed['entries'][1]['links'][1]['href'], stream = True)\n",
    "\n",
    "with open('test.mp3', 'wb') as f:\n",
    "    for chunk in response.iter_content(chunk_size = 1024):\n",
    "        f.write(chunk)"
   ]
  },
  {
   "cell_type": "code",
   "execution_count": null,
   "metadata": {},
   "outputs": [
    {
     "name": "stderr",
     "output_type": "stream",
     "text": [
      "Fetching 4 files: 100%|██████████| 4/4 [00:00<00:00, 76959.71it/s]\n",
      "Fetching 4 files: 100%|██████████| 4/4 [00:00<00:00, 129055.51it/s]\n",
      "Fetching 4 files: 100%|██████████| 4/4 [00:07<00:00,  1.79s/it]\n",
      "Fetching 4 files: 100%|██████████| 4/4 [00:15<00:00,  3.91s/it]\n",
      "Fetching 4 files: 100%|██████████| 4/4 [00:00<00:00, 31242.49it/s]\n"
     ]
    }
   ],
   "source": [
    "import time\n",
    "\n",
    "model_types = [\n",
    "    'whisper-tiny',\n",
    "    'whisper-base-mlx',\n",
    "    'whisper-small-mlx',\n",
    "    'whisper-medium-mlx',\n",
    "    'whisper-large-v3-mlx',\n",
    "    'whisper-large-v3-turbo'\n",
    "]\n",
    "\n",
    "runtimes = []\n",
    "\n",
    "for model_type in model_types:\n",
    "\n",
    "    if os.path.exists(f\"results/results_{model_type}.txt\"):\n",
    "        continue\n",
    "\n",
    "    start_time = time.time()\n",
    "    \n",
    "    text = mlx_whisper.transcribe('test.mp3', path_or_hf_repo=f'mlx-community/{model_type}')['text']\n",
    "    \n",
    "    end_time = time.time()\n",
    "    runtime = end_time - start_time\n",
    "    runtimes.append(runtime)\n",
    "    \n",
    "    with open(f\"results/results_{model_type}.txt\", \"w\") as file:\n",
    "        file.write(text)\n",
    "\n",
    "if not os.path.exists(\"results/runtimes.txt\"):\n",
    "    with open(\"results/runtimes.txt\", \"w\") as file:\n",
    "        for model_type, runtime in zip(model_types, runtimes):\n",
    "            file.write(f\"{model_type}: {runtime}\\n\")"
   ]
  }
 ],
 "metadata": {
  "kernelspec": {
   "display_name": "wc_venv",
   "language": "python",
   "name": "wc_venv"
  },
  "language_info": {
   "codemirror_mode": {
    "name": "ipython",
    "version": 3
   },
   "file_extension": ".py",
   "mimetype": "text/x-python",
   "name": "python",
   "nbconvert_exporter": "python",
   "pygments_lexer": "ipython3",
   "version": "3.12.9"
  }
 },
 "nbformat": 4,
 "nbformat_minor": 2
}
